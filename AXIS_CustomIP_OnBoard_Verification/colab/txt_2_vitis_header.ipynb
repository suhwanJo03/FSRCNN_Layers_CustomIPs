{
 "cells": [
  {
   "cell_type": "code",
   "execution_count": 1,
   "metadata": {
    "colab": {
     "base_uri": "https://localhost:8080/"
    },
    "executionInfo": {
     "elapsed": 32274,
     "status": "ok",
     "timestamp": 1756299112883,
     "user": {
      "displayName": "조수환1428",
      "userId": "09424433762108366801"
     },
     "user_tz": -540
    },
    "id": "hq4u1z66daPi",
    "outputId": "b3554cd1-2722-46fb-931d-28547eebc060"
   },
   "outputs": [
    {
     "name": "stdout",
     "output_type": "stream",
     "text": [
      "Mounted at /content/drive\n"
     ]
    }
   ],
   "source": [
    "# 1. Google Drive 마운트\n",
    "from google.colab import drive\n",
    "drive.mount('/content/drive')"
   ]
  },
  {
   "cell_type": "code",
   "execution_count": null,
   "metadata": {
    "colab": {
     "base_uri": "https://localhost:8080/"
    },
    "executionInfo": {
     "elapsed": 651,
     "status": "ok",
     "timestamp": 1756132550816,
     "user": {
      "displayName": "조수환1428",
      "userId": "09424433762108366801"
     },
     "user_tz": -540
    },
    "id": "hkPLRLRZoap3",
    "outputId": "8c3a1c35-226e-458a-d276-a782a5426f98"
   },
   "outputs": [
    {
     "name": "stdout",
     "output_type": "stream",
     "text": [
      "✅ Wrote header: /content/drive/MyDrive/FSRCNN/text_files/feature_input_file/frame1_data.h\n",
      "   Bytes: 57600, Array: frame1_data, Size macro: FRAME1_SIZE_BYTES\n"
     ]
    }
   ],
   "source": [
    "# -*- coding: utf-8 -*-\n",
    "\"\"\"\n",
    "Convert \"x y DATAHEX\" lines to a C header with a uint8_t array.\n",
    "- Input format example:\n",
    "    # x y Data\n",
    "    0 0 2F\n",
    "    1 0 32\n",
    "    ...\n",
    "- Output: .h file with include guard, size macro, and aligned static const array.\n",
    "\"\"\"\n",
    "\n",
    "import os\n",
    "\n",
    "# ---- Paths (edit as needed) ----\n",
    "input_file_path  = \"/content/drive/MyDrive/FSRCNN/text_files/feature_input_file/input_pixels.txt\"\n",
    "output_file_path = \"/content/drive/MyDrive/FSRCNN/text_files/feature_input_file/frame1_data.h\"\n",
    "\n",
    "# ---- C symbols (edit as needed) ----\n",
    "HEADER_GUARD = \"FRAME1_DATA_H\"\n",
    "SIZE_MACRO   = \"FRAME1_SIZE_BYTES\"\n",
    "ARRAY_NAME   = \"frame1_data\"\n",
    "ALIGN_ATTR   = \"__attribute__((aligned(64)))\"  # GCC/Clang. For MSVC you'd use __declspec(align(64))\n",
    "\n",
    "# ---- Read and collect bytes (keep original order; no reverse) ----\n",
    "bytes_hex = []\n",
    "with open(input_file_path, \"r\", encoding=\"utf-8\") as f:\n",
    "    for raw in f:\n",
    "        line = raw.strip()\n",
    "        if not line or line.startswith(\"#\"):\n",
    "            continue\n",
    "        parts = line.split()\n",
    "        if len(parts) < 3:\n",
    "            # Skip malformed lines silently\n",
    "            continue\n",
    "        data_hex = parts[2]\n",
    "\n",
    "        # Normalize to two-digit uppercase hex without '0x' prefix\n",
    "        if data_hex.startswith((\"0x\", \"0X\")):\n",
    "            data_hex = data_hex[2:]\n",
    "        data_hex = data_hex.upper()\n",
    "        if len(data_hex) == 1:\n",
    "            data_hex = \"0\" + data_hex\n",
    "        elif len(data_hex) > 2:\n",
    "            # If longer than 2 (e.g., stray), keep the last two nibbles\n",
    "            data_hex = data_hex[-2:]\n",
    "\n",
    "        bytes_hex.append(data_hex)\n",
    "\n",
    "count = len(bytes_hex)\n",
    "\n",
    "# ---- Write header file ----\n",
    "with open(output_file_path, \"w\", encoding=\"utf-8\") as out:\n",
    "    # Include guard and headers\n",
    "    out.write(f\"#ifndef {HEADER_GUARD}\\n\")\n",
    "    out.write(f\"#define {HEADER_GUARD}\\n\\n\")\n",
    "    out.write(\"#include <stdint.h>\\n\\n\")\n",
    "    out.write(f\"#define {SIZE_MACRO} {count}\\n\\n\")\n",
    "\n",
    "    # Array definition (static const to avoid multiple definition across TU)\n",
    "    out.write(f\"static const uint8_t {ARRAY_NAME}[{SIZE_MACRO}] {ALIGN_ATTR} = {{\\n\")\n",
    "\n",
    "    # Pretty-print: 16 values per line\n",
    "    per_line = 16\n",
    "    for i, hx in enumerate(bytes_hex, 1):\n",
    "        sep = \"\\n\" if (i % per_line == 0) else \" \"\n",
    "        out.write(f\"    0x{hx},{sep}\")\n",
    "\n",
    "    # Close array and guard\n",
    "    if count % per_line != 0:\n",
    "        out.write(\"\\n\")\n",
    "    out.write(\"};\\n\\n\")\n",
    "    out.write(f\"#endif /* {HEADER_GUARD} */\\n\")\n",
    "\n",
    "print(f\"✅ Wrote header: {output_file_path}\")\n",
    "print(f\"   Bytes: {count}, Array: {ARRAY_NAME}, Size macro: {SIZE_MACRO}\")\n"
   ]
  },
  {
   "cell_type": "code",
   "execution_count": 2,
   "metadata": {
    "colab": {
     "base_uri": "https://localhost:8080/"
    },
    "executionInfo": {
     "elapsed": 1229,
     "status": "ok",
     "timestamp": 1756299169094,
     "user": {
      "displayName": "조수환1428",
      "userId": "09424433762108366801"
     },
     "user_tz": -540
    },
    "id": "fWS2CXFTlQHQ",
    "outputId": "95221ad7-d619-42f2-d307-fd7a9c183a29"
   },
   "outputs": [
    {
     "name": "stdout",
     "output_type": "stream",
     "text": [
      "✅ Generated /content/drive/MyDrive/FSRCNN/text_files/deconv_input_file/frame1_data.c\n",
      "   Total bytes: 921600\n"
     ]
    }
   ],
   "source": [
    "import re\n",
    "\n",
    "# ---- Paths ----\n",
    "input_file_path = \"/content/drive/MyDrive/FSRCNN/text_files/deconv_input_file/layer7_expand_output_hex_packed.txt\"\n",
    "output_file_path = \"/content/drive/MyDrive/FSRCNN/text_files/deconv_input_file/frame1_data.c\"\n",
    "\n",
    "def is_comment_or_empty(line: str) -> bool:\n",
    "    # Treat lines starting with '#' or empty/whitespace-only as comments\n",
    "    s = line.strip()\n",
    "    return (not s) or s.startswith('#')\n",
    "\n",
    "def parse_hex_string_from_line(line: str) -> str:\n",
    "    \"\"\"\n",
    "    Input line format example:\n",
    "      \"0 0 1C1E0A1E0100001910001504181E160D\"\n",
    "      \"10 0 192201190608002000001F051A201217\"\n",
    "    We expect the last whitespace-separated token to be the hex string.\n",
    "    \"\"\"\n",
    "    parts = line.strip().split()\n",
    "    if len(parts) < 3:\n",
    "        raise ValueError(f\"Invalid data line (need x y HEXSTRING): {line}\")\n",
    "    hex_str = parts[-1]\n",
    "    # Basic validation: even length and hex characters\n",
    "    if len(hex_str) % 2 != 0:\n",
    "        raise ValueError(f\"Hex string must have even length: {hex_str}\")\n",
    "    if not re.fullmatch(r\"[0-9A-Fa-f]+\", hex_str):\n",
    "        raise ValueError(f\"Non-hex characters found: {hex_str}\")\n",
    "    return hex_str\n",
    "\n",
    "# Collect bytes here\n",
    "byte_list = []\n",
    "\n",
    "with open(input_file_path, \"r\", encoding=\"utf-8\") as infile:\n",
    "    for raw in infile:\n",
    "        if is_comment_or_empty(raw):\n",
    "            continue\n",
    "        hex_str = parse_hex_string_from_line(raw)\n",
    "\n",
    "        # Reverse by byte pairs (2 hex chars per byte), e.g. \"A1B2C3\" -> [\"C3\",\"B2\",\"A1\"]\n",
    "        for i in range(len(hex_str) - 2, -1, -2):\n",
    "            b = hex_str[i:i+2]\n",
    "            byte_list.append(f\"0x{b.upper()}\")\n",
    "\n",
    "# Write C file\n",
    "with open(output_file_path, \"w\", encoding=\"utf-8\") as outfile:\n",
    "    outfile.write(\"// Auto-generated from txt -> C array (byte-reversed per line)\\n\")\n",
    "    outfile.write(\"// Input: bottom-up style per-line hex strings, reversed in 2-hex-digit steps\\n\")\n",
    "    outfile.write(\"#include <stdint.h>\\n\\n\")\n",
    "    outfile.write(f\"#define FRAME2_SIZE_BYTES {len(byte_list)}\\n\\n\")\n",
    "    outfile.write(\"const uint8_t frame2_data[FRAME2_SIZE_BYTES] __attribute__((aligned(64))) = {\\n\")\n",
    "\n",
    "    # Pretty-print 16 bytes per line\n",
    "    for i, token in enumerate(byte_list, start=1):\n",
    "        outfile.write(f\"  {token},\")\n",
    "        if i % 16 == 0:\n",
    "            outfile.write(\"\\n\")\n",
    "        else:\n",
    "            outfile.write(\" \")\n",
    "    if len(byte_list) % 16 != 0:\n",
    "        outfile.write(\"\\n\")\n",
    "    outfile.write(\"};\\n\")\n",
    "\n",
    "print(f\"✅ Generated {output_file_path}\")\n",
    "print(f\"   Total bytes: {len(byte_list)}\")\n"
   ]
  }
 ],
 "metadata": {
  "colab": {
   "authorship_tag": "ABX9TyNnZWVDlIgn5F4N/PsAt8mI",
   "provenance": []
  },
  "kernelspec": {
   "display_name": "Python 3",
   "name": "python3"
  },
  "language_info": {
   "name": "python"
  }
 },
 "nbformat": 4,
 "nbformat_minor": 0
}
